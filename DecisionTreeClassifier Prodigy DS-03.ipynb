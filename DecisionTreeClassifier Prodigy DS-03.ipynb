{
 "cells": [
  {
   "cell_type": "markdown",
   "metadata": {
    "id": "Ik3y8DZDdZoD"
   },
   "source": [
    "Decision Tree Classifier to predict whether a customer will purchase a product or service based on demographic and behavioural data.UCI Machine Learning Bank Marketing dataset"
   ]
  },
  {
   "cell_type": "code",
   "execution_count": 3,
   "metadata": {
    "id": "QXj8g94oe4yG"
   },
   "outputs": [],
   "source": [
    "import pandas as pd\n",
    "import numpy as np\n",
    "import seaborn as sns\n",
    "import matplotlib.pyplot as plt\n",
    "%matplotlib inline"
   ]
  },
  {
   "cell_type": "code",
   "execution_count": 4,
   "metadata": {
    "id": "1e_pTtHCfQqU"
   },
   "outputs": [],
   "source": [
    "df=pd.read_csv('bank.csv')"
   ]
  },
  {
   "cell_type": "code",
   "execution_count": 5,
   "metadata": {
    "colab": {
     "base_uri": "https://localhost:8080/",
     "height": 206
    },
    "id": "iWH5aPSVfVdn",
    "outputId": "6c694fe1-19e3-47e6-ee78-783f425d7792"
   },
   "outputs": [
    {
     "data": {
      "text/html": [
       "<div>\n",
       "<style scoped>\n",
       "    .dataframe tbody tr th:only-of-type {\n",
       "        vertical-align: middle;\n",
       "    }\n",
       "\n",
       "    .dataframe tbody tr th {\n",
       "        vertical-align: top;\n",
       "    }\n",
       "\n",
       "    .dataframe thead th {\n",
       "        text-align: right;\n",
       "    }\n",
       "</style>\n",
       "<table border=\"1\" class=\"dataframe\">\n",
       "  <thead>\n",
       "    <tr style=\"text-align: right;\">\n",
       "      <th></th>\n",
       "      <th>age</th>\n",
       "      <th>job</th>\n",
       "      <th>marital</th>\n",
       "      <th>education</th>\n",
       "      <th>default</th>\n",
       "      <th>balance</th>\n",
       "      <th>housing</th>\n",
       "      <th>loan</th>\n",
       "      <th>contact</th>\n",
       "      <th>day</th>\n",
       "      <th>month</th>\n",
       "      <th>duration</th>\n",
       "      <th>campaign</th>\n",
       "      <th>pdays</th>\n",
       "      <th>previous</th>\n",
       "      <th>poutcome</th>\n",
       "      <th>y</th>\n",
       "    </tr>\n",
       "  </thead>\n",
       "  <tbody>\n",
       "    <tr>\n",
       "      <th>0</th>\n",
       "      <td>30</td>\n",
       "      <td>unemployed</td>\n",
       "      <td>married</td>\n",
       "      <td>primary</td>\n",
       "      <td>no</td>\n",
       "      <td>1787</td>\n",
       "      <td>no</td>\n",
       "      <td>no</td>\n",
       "      <td>cellular</td>\n",
       "      <td>19</td>\n",
       "      <td>oct</td>\n",
       "      <td>79</td>\n",
       "      <td>1</td>\n",
       "      <td>-1</td>\n",
       "      <td>0</td>\n",
       "      <td>unknown</td>\n",
       "      <td>no</td>\n",
       "    </tr>\n",
       "    <tr>\n",
       "      <th>1</th>\n",
       "      <td>33</td>\n",
       "      <td>services</td>\n",
       "      <td>married</td>\n",
       "      <td>secondary</td>\n",
       "      <td>no</td>\n",
       "      <td>4789</td>\n",
       "      <td>yes</td>\n",
       "      <td>yes</td>\n",
       "      <td>cellular</td>\n",
       "      <td>11</td>\n",
       "      <td>may</td>\n",
       "      <td>220</td>\n",
       "      <td>1</td>\n",
       "      <td>339</td>\n",
       "      <td>4</td>\n",
       "      <td>failure</td>\n",
       "      <td>no</td>\n",
       "    </tr>\n",
       "    <tr>\n",
       "      <th>2</th>\n",
       "      <td>35</td>\n",
       "      <td>management</td>\n",
       "      <td>single</td>\n",
       "      <td>tertiary</td>\n",
       "      <td>no</td>\n",
       "      <td>1350</td>\n",
       "      <td>yes</td>\n",
       "      <td>no</td>\n",
       "      <td>cellular</td>\n",
       "      <td>16</td>\n",
       "      <td>apr</td>\n",
       "      <td>185</td>\n",
       "      <td>1</td>\n",
       "      <td>330</td>\n",
       "      <td>1</td>\n",
       "      <td>failure</td>\n",
       "      <td>no</td>\n",
       "    </tr>\n",
       "    <tr>\n",
       "      <th>3</th>\n",
       "      <td>30</td>\n",
       "      <td>management</td>\n",
       "      <td>married</td>\n",
       "      <td>tertiary</td>\n",
       "      <td>no</td>\n",
       "      <td>1476</td>\n",
       "      <td>yes</td>\n",
       "      <td>yes</td>\n",
       "      <td>unknown</td>\n",
       "      <td>3</td>\n",
       "      <td>jun</td>\n",
       "      <td>199</td>\n",
       "      <td>4</td>\n",
       "      <td>-1</td>\n",
       "      <td>0</td>\n",
       "      <td>unknown</td>\n",
       "      <td>no</td>\n",
       "    </tr>\n",
       "    <tr>\n",
       "      <th>4</th>\n",
       "      <td>59</td>\n",
       "      <td>blue-collar</td>\n",
       "      <td>married</td>\n",
       "      <td>secondary</td>\n",
       "      <td>no</td>\n",
       "      <td>0</td>\n",
       "      <td>yes</td>\n",
       "      <td>no</td>\n",
       "      <td>unknown</td>\n",
       "      <td>5</td>\n",
       "      <td>may</td>\n",
       "      <td>226</td>\n",
       "      <td>1</td>\n",
       "      <td>-1</td>\n",
       "      <td>0</td>\n",
       "      <td>unknown</td>\n",
       "      <td>no</td>\n",
       "    </tr>\n",
       "  </tbody>\n",
       "</table>\n",
       "</div>"
      ],
      "text/plain": [
       "   age          job  marital  education default  balance housing loan  \\\n",
       "0   30   unemployed  married    primary      no     1787      no   no   \n",
       "1   33     services  married  secondary      no     4789     yes  yes   \n",
       "2   35   management   single   tertiary      no     1350     yes   no   \n",
       "3   30   management  married   tertiary      no     1476     yes  yes   \n",
       "4   59  blue-collar  married  secondary      no        0     yes   no   \n",
       "\n",
       "    contact  day month  duration  campaign  pdays  previous poutcome   y  \n",
       "0  cellular   19   oct        79         1     -1         0  unknown  no  \n",
       "1  cellular   11   may       220         1    339         4  failure  no  \n",
       "2  cellular   16   apr       185         1    330         1  failure  no  \n",
       "3   unknown    3   jun       199         4     -1         0  unknown  no  \n",
       "4   unknown    5   may       226         1     -1         0  unknown  no  "
      ]
     },
     "execution_count": 5,
     "metadata": {},
     "output_type": "execute_result"
    }
   ],
   "source": [
    "df.head()"
   ]
  },
  {
   "cell_type": "code",
   "execution_count": 6,
   "metadata": {
    "colab": {
     "base_uri": "https://localhost:8080/"
    },
    "id": "v-Cmb0NmfWnT",
    "outputId": "175d67bb-63f7-419f-8fc8-69352d91855e"
   },
   "outputs": [
    {
     "name": "stdout",
     "output_type": "stream",
     "text": [
      "<class 'pandas.core.frame.DataFrame'>\n",
      "RangeIndex: 49732 entries, 0 to 49731\n",
      "Data columns (total 17 columns):\n",
      " #   Column     Non-Null Count  Dtype \n",
      "---  ------     --------------  ----- \n",
      " 0   age        49732 non-null  int64 \n",
      " 1   job        49732 non-null  object\n",
      " 2   marital    49732 non-null  object\n",
      " 3   education  49732 non-null  object\n",
      " 4   default    49732 non-null  object\n",
      " 5   balance    49732 non-null  int64 \n",
      " 6   housing    49732 non-null  object\n",
      " 7   loan       49732 non-null  object\n",
      " 8   contact    49732 non-null  object\n",
      " 9   day        49732 non-null  int64 \n",
      " 10  month      49732 non-null  object\n",
      " 11  duration   49732 non-null  int64 \n",
      " 12  campaign   49732 non-null  int64 \n",
      " 13  pdays      49732 non-null  int64 \n",
      " 14  previous   49732 non-null  int64 \n",
      " 15  poutcome   49732 non-null  object\n",
      " 16  y          49732 non-null  object\n",
      "dtypes: int64(7), object(10)\n",
      "memory usage: 6.5+ MB\n"
     ]
    }
   ],
   "source": [
    "df.info()"
   ]
  },
  {
   "cell_type": "code",
   "execution_count": 7,
   "metadata": {
    "colab": {
     "base_uri": "https://localhost:8080/"
    },
    "id": "GV_XysPkfYAb",
    "outputId": "485d2117-7a28-4429-a194-668d3b443bda"
   },
   "outputs": [
    {
     "data": {
      "text/plain": [
       "Index(['age', 'job', 'marital', 'education', 'default', 'balance', 'housing',\n",
       "       'loan', 'contact', 'day', 'month', 'duration', 'campaign', 'pdays',\n",
       "       'previous', 'poutcome', 'y'],\n",
       "      dtype='object')"
      ]
     },
     "execution_count": 7,
     "metadata": {},
     "output_type": "execute_result"
    }
   ],
   "source": [
    "df.columns"
   ]
  },
  {
   "cell_type": "code",
   "execution_count": 8,
   "metadata": {
    "colab": {
     "base_uri": "https://localhost:8080/",
     "height": 300
    },
    "id": "fcmmwUCdfcNA",
    "outputId": "6c8d95fe-e3a4-41e2-84dd-fd78d19ab4cc"
   },
   "outputs": [
    {
     "data": {
      "text/html": [
       "<div>\n",
       "<style scoped>\n",
       "    .dataframe tbody tr th:only-of-type {\n",
       "        vertical-align: middle;\n",
       "    }\n",
       "\n",
       "    .dataframe tbody tr th {\n",
       "        vertical-align: top;\n",
       "    }\n",
       "\n",
       "    .dataframe thead th {\n",
       "        text-align: right;\n",
       "    }\n",
       "</style>\n",
       "<table border=\"1\" class=\"dataframe\">\n",
       "  <thead>\n",
       "    <tr style=\"text-align: right;\">\n",
       "      <th></th>\n",
       "      <th>age</th>\n",
       "      <th>balance</th>\n",
       "      <th>day</th>\n",
       "      <th>duration</th>\n",
       "      <th>campaign</th>\n",
       "      <th>pdays</th>\n",
       "      <th>previous</th>\n",
       "    </tr>\n",
       "  </thead>\n",
       "  <tbody>\n",
       "    <tr>\n",
       "      <th>count</th>\n",
       "      <td>49732.000000</td>\n",
       "      <td>49732.000000</td>\n",
       "      <td>49732.000000</td>\n",
       "      <td>49732.000000</td>\n",
       "      <td>49732.000000</td>\n",
       "      <td>49732.000000</td>\n",
       "      <td>49732.000000</td>\n",
       "    </tr>\n",
       "    <tr>\n",
       "      <th>mean</th>\n",
       "      <td>40.957472</td>\n",
       "      <td>1367.761562</td>\n",
       "      <td>15.816315</td>\n",
       "      <td>258.690179</td>\n",
       "      <td>2.766549</td>\n",
       "      <td>40.158630</td>\n",
       "      <td>0.576892</td>\n",
       "    </tr>\n",
       "    <tr>\n",
       "      <th>std</th>\n",
       "      <td>10.615008</td>\n",
       "      <td>3041.608766</td>\n",
       "      <td>8.315680</td>\n",
       "      <td>257.743149</td>\n",
       "      <td>3.099075</td>\n",
       "      <td>100.127123</td>\n",
       "      <td>2.254838</td>\n",
       "    </tr>\n",
       "    <tr>\n",
       "      <th>min</th>\n",
       "      <td>18.000000</td>\n",
       "      <td>-8019.000000</td>\n",
       "      <td>1.000000</td>\n",
       "      <td>0.000000</td>\n",
       "      <td>1.000000</td>\n",
       "      <td>-1.000000</td>\n",
       "      <td>0.000000</td>\n",
       "    </tr>\n",
       "    <tr>\n",
       "      <th>25%</th>\n",
       "      <td>33.000000</td>\n",
       "      <td>72.000000</td>\n",
       "      <td>8.000000</td>\n",
       "      <td>103.000000</td>\n",
       "      <td>1.000000</td>\n",
       "      <td>-1.000000</td>\n",
       "      <td>0.000000</td>\n",
       "    </tr>\n",
       "    <tr>\n",
       "      <th>50%</th>\n",
       "      <td>39.000000</td>\n",
       "      <td>448.000000</td>\n",
       "      <td>16.000000</td>\n",
       "      <td>180.000000</td>\n",
       "      <td>2.000000</td>\n",
       "      <td>-1.000000</td>\n",
       "      <td>0.000000</td>\n",
       "    </tr>\n",
       "    <tr>\n",
       "      <th>75%</th>\n",
       "      <td>48.000000</td>\n",
       "      <td>1431.000000</td>\n",
       "      <td>21.000000</td>\n",
       "      <td>320.000000</td>\n",
       "      <td>3.000000</td>\n",
       "      <td>-1.000000</td>\n",
       "      <td>0.000000</td>\n",
       "    </tr>\n",
       "    <tr>\n",
       "      <th>max</th>\n",
       "      <td>95.000000</td>\n",
       "      <td>102127.000000</td>\n",
       "      <td>31.000000</td>\n",
       "      <td>4918.000000</td>\n",
       "      <td>63.000000</td>\n",
       "      <td>871.000000</td>\n",
       "      <td>275.000000</td>\n",
       "    </tr>\n",
       "  </tbody>\n",
       "</table>\n",
       "</div>"
      ],
      "text/plain": [
       "                age        balance           day      duration      campaign  \\\n",
       "count  49732.000000   49732.000000  49732.000000  49732.000000  49732.000000   \n",
       "mean      40.957472    1367.761562     15.816315    258.690179      2.766549   \n",
       "std       10.615008    3041.608766      8.315680    257.743149      3.099075   \n",
       "min       18.000000   -8019.000000      1.000000      0.000000      1.000000   \n",
       "25%       33.000000      72.000000      8.000000    103.000000      1.000000   \n",
       "50%       39.000000     448.000000     16.000000    180.000000      2.000000   \n",
       "75%       48.000000    1431.000000     21.000000    320.000000      3.000000   \n",
       "max       95.000000  102127.000000     31.000000   4918.000000     63.000000   \n",
       "\n",
       "              pdays      previous  \n",
       "count  49732.000000  49732.000000  \n",
       "mean      40.158630      0.576892  \n",
       "std      100.127123      2.254838  \n",
       "min       -1.000000      0.000000  \n",
       "25%       -1.000000      0.000000  \n",
       "50%       -1.000000      0.000000  \n",
       "75%       -1.000000      0.000000  \n",
       "max      871.000000    275.000000  "
      ]
     },
     "execution_count": 8,
     "metadata": {},
     "output_type": "execute_result"
    }
   ],
   "source": [
    "df.describe()"
   ]
  },
  {
   "cell_type": "code",
   "execution_count": 9,
   "metadata": {
    "colab": {
     "base_uri": "https://localhost:8080/"
    },
    "id": "75MY28BXk_5d",
    "outputId": "054f2209-164d-428f-cc3a-8de571ce2866"
   },
   "outputs": [
    {
     "data": {
      "text/plain": [
       "(49732, 17)"
      ]
     },
     "execution_count": 9,
     "metadata": {},
     "output_type": "execute_result"
    }
   ],
   "source": [
    "df.shape"
   ]
  },
  {
   "cell_type": "code",
   "execution_count": 10,
   "metadata": {
    "colab": {
     "base_uri": "https://localhost:8080/"
    },
    "id": "ETke7c8Dlaxh",
    "outputId": "71fc8bfc-e66b-46a9-b813-55d92ade5503"
   },
   "outputs": [
    {
     "data": {
      "text/plain": [
       "age          0\n",
       "job          0\n",
       "marital      0\n",
       "education    0\n",
       "default      0\n",
       "balance      0\n",
       "housing      0\n",
       "loan         0\n",
       "contact      0\n",
       "day          0\n",
       "month        0\n",
       "duration     0\n",
       "campaign     0\n",
       "pdays        0\n",
       "previous     0\n",
       "poutcome     0\n",
       "y            0\n",
       "dtype: int64"
      ]
     },
     "execution_count": 10,
     "metadata": {},
     "output_type": "execute_result"
    }
   ],
   "source": [
    "df.isnull().sum()"
   ]
  },
  {
   "cell_type": "markdown",
   "metadata": {
    "id": "7BDU_21Emyj7"
   },
   "source": [
    "Data Analysis\n",
    "1. Missing Values\n",
    "2. Explore about Numerical Variables\n",
    "3. Explore Categorical Variables\n",
    "4. Finding Relationships between features"
   ]
  },
  {
   "cell_type": "code",
   "execution_count": 11,
   "metadata": {
    "colab": {
     "base_uri": "https://localhost:8080/",
     "height": 770
    },
    "id": "iv4mZVbMo_fX",
    "outputId": "239aaf9a-e57f-42a8-9c64-f633f3cf678d"
   },
   "outputs": [
    {
     "data": {
      "text/plain": [
       "<Axes: >"
      ]
     },
     "execution_count": 11,
     "metadata": {},
     "output_type": "execute_result"
    },
    {
     "data": {
      "image/png": "[encoded data removed]",
      "text/plain": [
       "<Figure size 640x480 with 1 Axes>"
      ]
     },
     "metadata": {},
     "output_type": "display_data"
    }
   ],
   "source": [
    "df['age'].hist(bins=30,alpha=0.8)"
   ]
  },
  {
   "cell_type": "markdown",
   "metadata": {
    "id": "AgLc9ys7WlV4"
   },
   "source": [
    "Observation: Majority of the people are between 30-40 age group."
   ]
  },
  {
   "cell_type": "code",
   "execution_count": 12,
   "metadata": {
    "colab": {
     "base_uri": "https://localhost:8080/"
    },
    "id": "nJdLW_JLm6By",
    "outputId": "6d2c1f90-d312-4d4a-b596-dae7ec1464ce"
   },
   "outputs": [
    {
     "data": {
      "text/plain": [
       "blue-collar      10678\n",
       "management       10427\n",
       "technician        8365\n",
       "admin.            5649\n",
       "services          4571\n",
       "retired           2494\n",
       "self-employed     1762\n",
       "entrepreneur      1655\n",
       "unemployed        1431\n",
       "housemaid         1352\n",
       "student           1022\n",
       "unknown            326\n",
       "Name: job, dtype: int64"
      ]
     },
     "execution_count": 12,
     "metadata": {},
     "output_type": "execute_result"
    }
   ],
   "source": [
    "df.job.value_counts()"
   ]
  },
  {
   "cell_type": "code",
   "execution_count": 13,
   "metadata": {
    "colab": {
     "base_uri": "https://localhost:8080/"
    },
    "id": "lpLMPW5om-X6",
    "outputId": "d0bba725-9233-47e8-cd68-6209dfa9b987"
   },
   "outputs": [
    {
     "data": {
      "text/plain": [
       "Index(['blue-collar', 'management', 'technician', 'admin.', 'services',\n",
       "       'retired', 'self-employed', 'entrepreneur', 'unemployed', 'housemaid',\n",
       "       'student', 'unknown'],\n",
       "      dtype='object')"
      ]
     },
     "execution_count": 13,
     "metadata": {},
     "output_type": "execute_result"
    }
   ],
   "source": [
    "job_name=df.job.value_counts().index\n",
    "job_name"
   ]
  },
  {
   "cell_type": "code",
   "execution_count": 14,
   "metadata": {
    "colab": {
     "base_uri": "https://localhost:8080/"
    },
    "id": "XeJPM_TsniQR",
    "outputId": "04534c62-6a05-4610-cfba-39697283e338"
   },
   "outputs": [
    {
     "data": {
      "text/plain": [
       "array([10678, 10427,  8365,  5649,  4571,  2494,  1762,  1655,  1431,\n",
       "        1352,  1022,   326], dtype=int64)"
      ]
     },
     "execution_count": 14,
     "metadata": {},
     "output_type": "execute_result"
    }
   ],
   "source": [
    "job_values=df.job.value_counts().values\n",
    "job_values"
   ]
  },
  {
   "cell_type": "code",
   "execution_count": 15,
   "metadata": {
    "colab": {
     "base_uri": "https://localhost:8080/",
     "height": 1000
    },
    "id": "VqH-e9MBnuiU",
    "outputId": "7037ab8b-d96a-4b43-cafb-b7a61e275e68"
   },
   "outputs": [
    {
     "data": {
      "text/plain": [
       "([<matplotlib.patches.Wedge at 0x295796d7ac0>,\n",
       "  <matplotlib.patches.Wedge at 0x2957991c550>,\n",
       "  <matplotlib.patches.Wedge at 0x29579701900>,\n",
       "  <matplotlib.patches.Wedge at 0x29579701f90>,\n",
       "  <matplotlib.patches.Wedge at 0x29579702620>,\n",
       "  <matplotlib.patches.Wedge at 0x29579702cb0>,\n",
       "  <matplotlib.patches.Wedge at 0x29579703340>,\n",
       "  <matplotlib.patches.Wedge at 0x295797039d0>,\n",
       "  <matplotlib.patches.Wedge at 0x295797480a0>,\n",
       "  <matplotlib.patches.Wedge at 0x29579748730>,\n",
       "  <matplotlib.patches.Wedge at 0x295796d7a90>,\n",
       "  <matplotlib.patches.Wedge at 0x29579749420>],\n",
       " [Text(0.8590978628878795, 0.6869867989863258, 'blue-collar'),\n",
       "  Text(-0.46549573808377265, 0.9966512518558556, 'management'),\n",
       "  Text(-1.0984406538155085, -0.058550235228891065, 'technician'),\n",
       "  Text(-0.6500778749298189, -0.8873549213965801, 'admin.'),\n",
       "  Text(0.014661424734733556, -1.099902287762303, 'services'),\n",
       "  Text(0.48797637426087875, -0.9858392658862838, 'retired'),\n",
       "  Text(0.7323111168690507, -0.8208047442053461, 'self-employed'),\n",
       "  Text(0.8911179605544273, -0.6449099009763446, 'entrepreneur'),\n",
       "  Text(0.999165392039003, -0.4600744715277578, 'unemployed'),\n",
       "  Text(1.0642312480935245, -0.27822985206713385, 'housemaid'),\n",
       "  Text(1.0938553552429124, -0.11610539094461535, 'student'),\n",
       "  Text(1.0997667559029072, -0.02265132691026766, 'unknown')],\n",
       " [Text(0.46859883430247967, 0.37472007217435943, '21.5%'),\n",
       "  Text(-0.2539067662275123, 0.5436279555577394, '21.0%'),\n",
       "  Text(-0.5991494475357318, -0.03193649194303149, '16.8%'),\n",
       "  Text(-0.35458793177990117, -0.48401177530722544, '11.4%'),\n",
       "  Text(0.007997140764400121, -0.5999467024158015, '9.2%'),\n",
       "  Text(0.26616893141502473, -0.5377305086652456, '5.0%'),\n",
       "  Text(0.3994424273831185, -0.4477116786574615, '3.5%'),\n",
       "  Text(0.4860643421205966, -0.35176903689618794, '3.3%'),\n",
       "  Text(0.5449993047485471, -0.2509497117424133, '2.9%'),\n",
       "  Text(0.580489771687377, -0.15176173749116392, '2.7%'),\n",
       "  Text(0.5966483755870431, -0.06333021324251745, '2.1%'),\n",
       "  Text(0.5998727759470401, -0.012355269223782358, '0.7%')])"
      ]
     },
     "execution_count": 15,
     "metadata": {},
     "output_type": "execute_result"
    },
    {
     "data": {
      "image/png": "[encoded data removed]",
      "text/plain": [
       "<Figure size 1000x800 with 1 Axes>"
      ]
     },
     "metadata": {},
     "output_type": "display_data"
    }
   ],
   "source": [
    "plt.figure(figsize=(10,8))\n",
    "plt.pie(job_values,labels=job_name,autopct='%1.1f%%')"
   ]
  },
  {
   "cell_type": "code",
   "execution_count": 16,
   "metadata": {
    "colab": {
     "base_uri": "https://localhost:8080/",
     "height": 329
    },
    "id": "2tTYAx7apbFC",
    "outputId": "502f5cbd-41fe-4db6-bff9-22337ba77d88"
   },
   "outputs": [
    {
     "data": {
      "text/plain": [
       "<Axes: xlabel='job', ylabel='count'>"
      ]
     },
     "execution_count": 16,
     "metadata": {},
     "output_type": "execute_result"
    },
    {
     "data": {
      "image/png": "[encoded data removed]",
      "text/plain": [
       "<Figure size 1400x300 with 1 Axes>"
      ]
     },
     "metadata": {},
     "output_type": "display_data"
    }
   ],
   "source": [
    "plt.figure(figsize=(14,3))\n",
    "sns.countplot(x='job',data=df)"
   ]
  },
  {
   "cell_type": "code",
   "execution_count": 17,
   "metadata": {
    "colab": {
     "base_uri": "https://localhost:8080/"
    },
    "id": "BYdLuV9iKlmz",
    "outputId": "37f172b9-bceb-406d-efaa-949d2f6ff629"
   },
   "outputs": [
    {
     "data": {
      "text/plain": [
       "married     30011\n",
       "single      13986\n",
       "divorced     5735\n",
       "Name: marital, dtype: int64"
      ]
     },
     "execution_count": 17,
     "metadata": {},
     "output_type": "execute_result"
    }
   ],
   "source": [
    "df.marital.value_counts()"
   ]
  },
  {
   "cell_type": "code",
   "execution_count": 18,
   "metadata": {
    "colab": {
     "base_uri": "https://localhost:8080/",
     "height": 501
    },
    "id": "xcv2XJHvEz8T",
    "outputId": "9e477f70-3195-42eb-fabd-3b944f241c11"
   },
   "outputs": [
    {
     "data": {
      "text/plain": [
       "([<matplotlib.patches.Wedge at 0x2957997f0a0>,\n",
       "  <matplotlib.patches.Wedge at 0x2957997efb0>,\n",
       "  <matplotlib.patches.Wedge at 0x2957997fc70>],\n",
       " [Text(-0.35125216525508723, 1.042411586852148, 'married'),\n",
       "  Text(-0.04098802758622603, -1.0992360900164218, 'single'),\n",
       "  Text(1.0285993850501876, -0.38985036241406285, 'divorced')],\n",
       " [Text(-0.19159209013913847, 0.5685881382829897, '60.3%'),\n",
       "  Text(-0.022357105956123287, -0.5995833218271391, '28.1%'),\n",
       "  Text(0.561054210027375, -0.21264565222585244, '11.5%')])"
      ]
     },
     "execution_count": 18,
     "metadata": {},
     "output_type": "execute_result"
    },
    {
     "data": {
      "image/png": "[encoded data removed]",
      "text/plain": [
       "<Figure size 1000x400 with 1 Axes>"
      ]
     },
     "metadata": {},
     "output_type": "display_data"
    }
   ],
   "source": [
    "marital_status=df.marital.value_counts().index\n",
    "ms_values=df.marital.value_counts().values\n",
    "plt.figure(figsize=(10,4))\n",
    "plt.pie(ms_values,labels=marital_status,autopct='%1.1f%%')"
   ]
  },
  {
   "cell_type": "markdown",
   "metadata": {
    "id": "5Zpp5I2OLdiV"
   },
   "source": [
    "Observation: Maximum people are married"
   ]
  },
  {
   "cell_type": "code",
   "execution_count": 19,
   "metadata": {
    "colab": {
     "base_uri": "https://localhost:8080/"
    },
    "id": "3RaCoEsrL0bx",
    "outputId": "9d92c7db-959c-4c1d-882b-060450a1d307"
   },
   "outputs": [
    {
     "data": {
      "text/plain": [
       "secondary    25508\n",
       "tertiary     14651\n",
       "primary       7529\n",
       "unknown       2044\n",
       "Name: education, dtype: int64"
      ]
     },
     "execution_count": 19,
     "metadata": {},
     "output_type": "execute_result"
    }
   ],
   "source": [
    "df.education.value_counts()"
   ]
  },
  {
   "cell_type": "code",
   "execution_count": 20,
   "metadata": {
    "colab": {
     "base_uri": "https://localhost:8080/",
     "height": 405
    },
    "id": "CISuEKmHGcdl",
    "outputId": "256e1694-cb27-4c80-da49-a395e3dece27"
   },
   "outputs": [
    {
     "data": {
      "text/plain": [
       "<Axes: xlabel='education', ylabel='count'>"
      ]
     },
     "execution_count": 20,
     "metadata": {},
     "output_type": "execute_result"
    },
    {
     "data": {
      "image/png": "[encoded data removed]",
      "text/plain": [
       "<Figure size 1000x400 with 1 Axes>"
      ]
     },
     "metadata": {},
     "output_type": "display_data"
    }
   ],
   "source": [
    "education_status=df.education.value_counts().index\n",
    "education_values=df.education.value_counts().values\n",
    "plt.figure(figsize=(10,4))\n",
    "sns.countplot(x='education',data=df)"
   ]
  },
  {
   "cell_type": "markdown",
   "metadata": {
    "id": "RInT_G35L5FY"
   },
   "source": [
    "Observation: Most of the people have atleast secondary education"
   ]
  },
  {
   "cell_type": "code",
   "execution_count": 21,
   "metadata": {
    "colab": {
     "base_uri": "https://localhost:8080/"
    },
    "id": "6NBCYvUMMxZL",
    "outputId": "345d7d37-4b40-4a13-984e-c388fe75d8b3"
   },
   "outputs": [
    {
     "data": {
      "text/plain": [
       "no     48841\n",
       "yes      891\n",
       "Name: default, dtype: int64"
      ]
     },
     "execution_count": 21,
     "metadata": {},
     "output_type": "execute_result"
    }
   ],
   "source": [
    "df.default.value_counts()"
   ]
  },
  {
   "cell_type": "code",
   "execution_count": 22,
   "metadata": {
    "colab": {
     "base_uri": "https://localhost:8080/",
     "height": 790
    },
    "id": "EO2DKtorM4L1",
    "outputId": "1f8094bb-77a5-4e5f-a7ac-c3a92b94e29c"
   },
   "outputs": [
    {
     "data": {
      "text/plain": [
       "<Axes: xlabel='default', ylabel='count'>"
      ]
     },
     "execution_count": 22,
     "metadata": {},
     "output_type": "execute_result"
    },
    {
     "data": {
      "image/png": "[encoded data removed]",
      "text/plain": [
       "<Figure size 640x480 with 1 Axes>"
      ]
     },
     "metadata": {},
     "output_type": "display_data"
    }
   ],
   "source": [
    "sns.countplot(x='default',data=df)"
   ]
  },
  {
   "cell_type": "markdown",
   "metadata": {
    "id": "8j-I7GA2NEQn"
   },
   "source": [
    "Observation: Most of the people do not have any credit in default.There is a very small amount of population having credits in default."
   ]
  },
  {
   "cell_type": "code",
   "execution_count": 23,
   "metadata": {
    "colab": {
     "base_uri": "https://localhost:8080/"
    },
    "id": "w-yiTpoPMHxc",
    "outputId": "c3099b41-3024-4e08-985a-6e032c0a5332"
   },
   "outputs": [
    {
     "data": {
      "text/plain": [
       "yes    27689\n",
       "no     22043\n",
       "Name: housing, dtype: int64"
      ]
     },
     "execution_count": 23,
     "metadata": {},
     "output_type": "execute_result"
    }
   ],
   "source": [
    "df.housing.value_counts()"
   ]
  },
  {
   "cell_type": "code",
   "execution_count": 24,
   "metadata": {
    "colab": {
     "base_uri": "https://localhost:8080/",
     "height": 834
    },
    "id": "bX1pDTY9G_0o",
    "outputId": "4bdf2c60-d491-4319-c59c-d405fd4e25b7"
   },
   "outputs": [
    {
     "data": {
      "text/plain": [
       "([<matplotlib.patches.Wedge at 0x29579aa3370>,\n",
       "  <matplotlib.patches.Wedge at 0x29579aa3280>],\n",
       " [Text(-0.19512508247549232, 1.0825554037502803, 'yes'),\n",
       "  Text(0.19512508247549215, -1.0825554037502805, 'no')],\n",
       " [Text(-0.10643186316845034, 0.5904847656819711, '55.7%'),\n",
       "  Text(0.10643186316845026, -0.5904847656819711, '44.3%')])"
      ]
     },
     "execution_count": 24,
     "metadata": {},
     "output_type": "execute_result"
    },
    {
     "data": {
      "image/png": "[encoded data removed]",
      "text/plain": [
       "<Figure size 640x480 with 1 Axes>"
      ]
     },
     "metadata": {},
     "output_type": "display_data"
    }
   ],
   "source": [
    "hl_status=df.housing.value_counts().index\n",
    "hl_values=df.housing.value_counts().values\n",
    "plt.pie(hl_values,labels=hl_status,autopct='%1.1f%%')"
   ]
  },
  {
   "cell_type": "markdown",
   "metadata": {
    "id": "Xvz3wmT-Nf9v"
   },
   "source": [
    "Observation: 56% of the population has housing loans"
   ]
  },
  {
   "cell_type": "code",
   "execution_count": 25,
   "metadata": {
    "colab": {
     "base_uri": "https://localhost:8080/"
    },
    "id": "pnHaSlO5O4da",
    "outputId": "f0603bc5-3db9-48c1-e64c-077de32a9a69"
   },
   "outputs": [
    {
     "data": {
      "text/plain": [
       "no     41797\n",
       "yes     7935\n",
       "Name: loan, dtype: int64"
      ]
     },
     "execution_count": 25,
     "metadata": {},
     "output_type": "execute_result"
    }
   ],
   "source": [
    "df.loan.value_counts()"
   ]
  },
  {
   "cell_type": "code",
   "execution_count": 26,
   "metadata": {
    "colab": {
     "base_uri": "https://localhost:8080/",
     "height": 792
    },
    "id": "cLHgRjU-JguV",
    "outputId": "013f0ac4-c996-4800-9bbf-0c2c106650bd"
   },
   "outputs": [
    {
     "data": {
      "text/plain": [
       "<Axes: xlabel='loan', ylabel='count'>"
      ]
     },
     "execution_count": 26,
     "metadata": {},
     "output_type": "execute_result"
    },
    {
     "data": {
      "image/png": "[encoded data removed]",
      "text/plain": [
       "<Figure size 640x480 with 1 Axes>"
      ]
     },
     "metadata": {},
     "output_type": "display_data"
    }
   ],
   "source": [
    "sns.countplot(x='loan',data=df)"
   ]
  },
  {
   "cell_type": "markdown",
   "metadata": {
    "id": "EzLc-ooNO_Nt"
   },
   "source": [
    "Observation: A big amount of population do not have any personal loans."
   ]
  },
  {
   "cell_type": "code",
   "execution_count": 27,
   "metadata": {
    "colab": {
     "base_uri": "https://localhost:8080/"
    },
    "id": "GbV_hZGkJfmd",
    "outputId": "43879dae-153f-41f8-a555-fbbbccc6c0d9"
   },
   "outputs": [
    {
     "data": {
      "text/plain": [
       "cellular     32181\n",
       "unknown      14344\n",
       "telephone     3207\n",
       "Name: contact, dtype: int64"
      ]
     },
     "execution_count": 27,
     "metadata": {},
     "output_type": "execute_result"
    }
   ],
   "source": [
    "df.contact.value_counts()"
   ]
  },
  {
   "cell_type": "code",
   "execution_count": 28,
   "metadata": {
    "colab": {
     "base_uri": "https://localhost:8080/",
     "height": 886
    },
    "id": "9UshAV3iovg3",
    "outputId": "37f5c960-f00c-4620-93fa-5241afa30667"
   },
   "outputs": [
    {
     "data": {
      "text/plain": [
       "([<matplotlib.patches.Wedge at 0x29579b6de70>,\n",
       "  <matplotlib.patches.Wedge at 0x29579b6dd80>,\n",
       "  <matplotlib.patches.Wedge at 0x29579b6eb60>],\n",
       " [Text(-0.4904037091339709, 0.9846340447433471, 'cellular'),\n",
       "  Text(0.2822615785927258, -1.0631690370069768, 'unknown'),\n",
       "  Text(1.0775041402199559, -0.22132516307201439, 'telephone')],\n",
       " [Text(-0.2674929322548932, 0.5370731153145529, '64.7%'),\n",
       "  Text(0.15396086105057769, -0.5799103838219873, '28.8%'),\n",
       "  Text(0.5877295310290668, -0.12072281622109875, '6.4%')])"
      ]
     },
     "execution_count": 28,
     "metadata": {},
     "output_type": "execute_result"
    },
    {
     "data": {
      "image/png": "[encoded data removed]",
      "text/plain": [
       "<Figure size 640x480 with 1 Axes>"
      ]
     },
     "metadata": {},
     "output_type": "display_data"
    }
   ],
   "source": [
    "c_status=df.contact.value_counts().index\n",
    "c_values=df.contact.value_counts().values\n",
    "plt.pie(c_values,labels=c_status,autopct='%1.1f%%')"
   ]
  },
  {
   "cell_type": "markdown",
   "metadata": {
    "id": "MkhN9D1PPg7X"
   },
   "source": [
    "Observations: 64% of the population can be contacted through cellphones."
   ]
  },
  {
   "cell_type": "code",
   "execution_count": 29,
   "metadata": {
    "colab": {
     "base_uri": "https://localhost:8080/"
    },
    "id": "16XtCiDxXRHP",
    "outputId": "8ad8a8f1-7eaf-4c91-8f22-a6480d991e81"
   },
   "outputs": [
    {
     "data": {
      "text/plain": [
       "1     19278\n",
       "2     13769\n",
       "3      6079\n",
       "4      3847\n",
       "5      1931\n",
       "6      1446\n",
       "7       810\n",
       "8       596\n",
       "9       357\n",
       "10      293\n",
       "11      223\n",
       "12      176\n",
       "13      150\n",
       "14      103\n",
       "15       93\n",
       "16       87\n",
       "17       76\n",
       "18       58\n",
       "19       47\n",
       "20       46\n",
       "21       37\n",
       "25       26\n",
       "22       25\n",
       "23       24\n",
       "24       23\n",
       "28       19\n",
       "29       17\n",
       "31       13\n",
       "26       13\n",
       "32       11\n",
       "27       10\n",
       "30        9\n",
       "33        6\n",
       "34        5\n",
       "36        4\n",
       "35        4\n",
       "38        3\n",
       "43        3\n",
       "50        3\n",
       "37        2\n",
       "41        2\n",
       "44        2\n",
       "55        1\n",
       "46        1\n",
       "58        1\n",
       "63        1\n",
       "51        1\n",
       "39        1\n",
       "Name: campaign, dtype: int64"
      ]
     },
     "execution_count": 29,
     "metadata": {},
     "output_type": "execute_result"
    }
   ],
   "source": [
    "df.campaign.value_counts()"
   ]
  },
  {
   "cell_type": "code",
   "execution_count": 30,
   "metadata": {
    "colab": {
     "base_uri": "https://localhost:8080/",
     "height": 405
    },
    "id": "tK73PhPJXY5v",
    "outputId": "a4b50011-85aa-4129-87fd-0614fccd2a98"
   },
   "outputs": [
    {
     "data": {
      "text/plain": [
       "<Axes: xlabel='campaign', ylabel='count'>"
      ]
     },
     "execution_count": 30,
     "metadata": {},
     "output_type": "execute_result"
    },
    {
     "data": {
      "image/png": "[encoded data removed]",
      "text/plain": [
       "<Figure size 1000x400 with 1 Axes>"
      ]
     },
     "metadata": {},
     "output_type": "display_data"
    }
   ],
   "source": [
    "plt.figure(figsize=(10,4))\n",
    "sns.countplot(x='campaign',data=df)"
   ]
  },
  {
   "cell_type": "markdown",
   "metadata": {
    "id": "IfjncZ1jXyPx"
   },
   "source": [
    "Observation:The above plot shows the number of contacts performed during this campaign and for client"
   ]
  },
  {
   "cell_type": "code",
   "execution_count": 31,
   "metadata": {
    "colab": {
     "base_uri": "https://localhost:8080/"
    },
    "id": "w2pqhXljRnFB",
    "outputId": "3815a895-291e-4ba2-81df-fc38a781bed9"
   },
   "outputs": [
    {
     "data": {
      "text/plain": [
       "unknown    40664\n",
       "failure     5391\n",
       "other       2037\n",
       "success     1640\n",
       "Name: poutcome, dtype: int64"
      ]
     },
     "execution_count": 31,
     "metadata": {},
     "output_type": "execute_result"
    }
   ],
   "source": [
    "df.poutcome.value_counts()"
   ]
  },
  {
   "cell_type": "code",
   "execution_count": 32,
   "metadata": {
    "colab": {
     "base_uri": "https://localhost:8080/",
     "height": 553
    },
    "id": "ayHUE4_Qovsj",
    "outputId": "624a0e80-dcd1-4a57-98c4-e781145e79ba"
   },
   "outputs": [
    {
     "data": {
      "text/plain": [
       "([<matplotlib.patches.Wedge at 0x2957a3922c0>,\n",
       "  <matplotlib.patches.Wedge at 0x2957a3921d0>,\n",
       "  <matplotlib.patches.Wedge at 0x2957a392fb0>,\n",
       "  <matplotlib.patches.Wedge at 0x2957a393640>],\n",
       " [Text(-0.9244076949284146, 0.5962133959893348, 'unknown'),\n",
       "  Text(0.7623371647421137, -0.7929956161625079, 'failure'),\n",
       "  Text(1.038533649192687, -0.36255738786366076, 'other'),\n",
       "  Text(1.094102192974564, -0.11375584085333881, 'success')],\n",
       " [Text(-0.5042223790518624, 0.32520730690327343, '81.8%'),\n",
       "  Text(0.4158202716775165, -0.4325430633613679, '10.8%'),\n",
       "  Text(0.5664728995596474, -0.1977585751983604, '4.1%'),\n",
       "  Text(0.5967830143497621, -0.06204864046545753, '3.3%')])"
      ]
     },
     "execution_count": 32,
     "metadata": {},
     "output_type": "execute_result"
    },
    {
     "data": {
      "image/png": "[encoded data removed]",
      "text/plain": [
       "<Figure size 1000x400 with 1 Axes>"
      ]
     },
     "metadata": {},
     "output_type": "display_data"
    }
   ],
   "source": [
    "outcome_status=df.poutcome.value_counts().index\n",
    "outcome_values=df.poutcome.value_counts().values\n",
    "plt.figure(figsize=(10,4))\n",
    "plt.pie(outcome_values,labels=outcome_status,autopct='%1.1f%%')"
   ]
  },
  {
   "cell_type": "markdown",
   "metadata": {
    "id": "nALxR4U6QE-i"
   },
   "source": [
    "Observation: It can be analyzed that the outcomes of the previous campaign were not so good,with very little success rate"
   ]
  },
  {
   "cell_type": "code",
   "execution_count": 33,
   "metadata": {
    "colab": {
     "base_uri": "https://localhost:8080/"
    },
    "id": "_kuiybZpQCgc",
    "outputId": "a814e301-dabb-42ae-bdc3-9b126e0f7b49"
   },
   "outputs": [
    {
     "data": {
      "text/plain": [
       "no     43922\n",
       "yes     5810\n",
       "Name: y, dtype: int64"
      ]
     },
     "execution_count": 33,
     "metadata": {},
     "output_type": "execute_result"
    }
   ],
   "source": [
    "df.y.value_counts()"
   ]
  },
  {
   "cell_type": "code",
   "execution_count": 34,
   "metadata": {
    "colab": {
     "base_uri": "https://localhost:8080/",
     "height": 790
    },
    "id": "MtObBrE3Rs_K",
    "outputId": "c353c1c7-c43c-4b0a-e838-3dcde29fc9c3"
   },
   "outputs": [
    {
     "data": {
      "text/plain": [
       "<Axes: xlabel='y', ylabel='count'>"
      ]
     },
     "execution_count": 34,
     "metadata": {},
     "output_type": "execute_result"
    },
    {
     "data": {
      "image/png": "[encoded data removed]",
      "text/plain": [
       "<Figure size 640x480 with 1 Axes>"
      ]
     },
     "metadata": {},
     "output_type": "display_data"
    }
   ],
   "source": [
    "sns.countplot(x='y',data=df)"
   ]
  },
  {
   "cell_type": "markdown",
   "metadata": {
    "id": "H_VHh7IWTOVl"
   },
   "source": [
    "Observation: We can analyze that most of the clients did not subscribe a term deposit,or in simple words,did not buy the product or service"
   ]
  },
  {
   "cell_type": "code",
   "execution_count": 35,
   "metadata": {
    "id": "m4NcXX5ib71R"
   },
   "outputs": [],
   "source": [
    "df.replace({'housing':{'no':0,'yes':1}},inplace=True)\n",
    "df.replace({'loan':{'no':0,'yes':1}},inplace=True)"
   ]
  },
  {
   "cell_type": "code",
   "execution_count": 36,
   "metadata": {
    "id": "CjDAhTGiUKX2"
   },
   "outputs": [],
   "source": [
    "df['h_and_l']=0\n",
    "df['no_loan']=0"
   ]
  },
  {
   "cell_type": "code",
   "execution_count": 37,
   "metadata": {
    "id": "xXwzibljoK4u"
   },
   "outputs": [],
   "source": [
    "df['h_and_l']=df['loan']+df['housing']\n",
    "df['h_and_l']=df['h_and_l']==2"
   ]
  },
  {
   "cell_type": "code",
   "execution_count": 38,
   "metadata": {
    "id": "Wh1jOiLee8wR"
   },
   "outputs": [],
   "source": [
    "df['no_loan']=df['loan']+df['housing']\n",
    "df['no_loan']=df['no_loan']==0"
   ]
  },
  {
   "cell_type": "code",
   "execution_count": 39,
   "metadata": {
    "colab": {
     "base_uri": "https://localhost:8080/",
     "height": 423
    },
    "id": "wZ02-nHVgJAj",
    "outputId": "eba1707e-69cf-495e-ae20-1146a06b2380"
   },
   "outputs": [
    {
     "data": {
      "text/html": [
       "<div>\n",
       "<style scoped>\n",
       "    .dataframe tbody tr th:only-of-type {\n",
       "        vertical-align: middle;\n",
       "    }\n",
       "\n",
       "    .dataframe tbody tr th {\n",
       "        vertical-align: top;\n",
       "    }\n",
       "\n",
       "    .dataframe thead th {\n",
       "        text-align: right;\n",
       "    }\n",
       "</style>\n",
       "<table border=\"1\" class=\"dataframe\">\n",
       "  <thead>\n",
       "    <tr style=\"text-align: right;\">\n",
       "      <th></th>\n",
       "      <th>age</th>\n",
       "      <th>job</th>\n",
       "      <th>marital</th>\n",
       "      <th>education</th>\n",
       "      <th>default</th>\n",
       "      <th>balance</th>\n",
       "      <th>housing</th>\n",
       "      <th>loan</th>\n",
       "      <th>contact</th>\n",
       "      <th>day</th>\n",
       "      <th>month</th>\n",
       "      <th>duration</th>\n",
       "      <th>campaign</th>\n",
       "      <th>pdays</th>\n",
       "      <th>previous</th>\n",
       "      <th>poutcome</th>\n",
       "      <th>y</th>\n",
       "      <th>h_and_l</th>\n",
       "      <th>no_loan</th>\n",
       "    </tr>\n",
       "  </thead>\n",
       "  <tbody>\n",
       "    <tr>\n",
       "      <th>0</th>\n",
       "      <td>30</td>\n",
       "      <td>unemployed</td>\n",
       "      <td>married</td>\n",
       "      <td>primary</td>\n",
       "      <td>no</td>\n",
       "      <td>1787</td>\n",
       "      <td>0</td>\n",
       "      <td>0</td>\n",
       "      <td>cellular</td>\n",
       "      <td>19</td>\n",
       "      <td>oct</td>\n",
       "      <td>79</td>\n",
       "      <td>1</td>\n",
       "      <td>-1</td>\n",
       "      <td>0</td>\n",
       "      <td>unknown</td>\n",
       "      <td>no</td>\n",
       "      <td>False</td>\n",
       "      <td>True</td>\n",
       "    </tr>\n",
       "    <tr>\n",
       "      <th>1</th>\n",
       "      <td>33</td>\n",
       "      <td>services</td>\n",
       "      <td>married</td>\n",
       "      <td>secondary</td>\n",
       "      <td>no</td>\n",
       "      <td>4789</td>\n",
       "      <td>1</td>\n",
       "      <td>1</td>\n",
       "      <td>cellular</td>\n",
       "      <td>11</td>\n",
       "      <td>may</td>\n",
       "      <td>220</td>\n",
       "      <td>1</td>\n",
       "      <td>339</td>\n",
       "      <td>4</td>\n",
       "      <td>failure</td>\n",
       "      <td>no</td>\n",
       "      <td>True</td>\n",
       "      <td>False</td>\n",
       "    </tr>\n",
       "    <tr>\n",
       "      <th>2</th>\n",
       "      <td>35</td>\n",
       "      <td>management</td>\n",
       "      <td>single</td>\n",
       "      <td>tertiary</td>\n",
       "      <td>no</td>\n",
       "      <td>1350</td>\n",
       "      <td>1</td>\n",
       "      <td>0</td>\n",
       "      <td>cellular</td>\n",
       "      <td>16</td>\n",
       "      <td>apr</td>\n",
       "      <td>185</td>\n",
       "      <td>1</td>\n",
       "      <td>330</td>\n",
       "      <td>1</td>\n",
       "      <td>failure</td>\n",
       "      <td>no</td>\n",
       "      <td>False</td>\n",
       "      <td>False</td>\n",
       "    </tr>\n",
       "    <tr>\n",
       "      <th>3</th>\n",
       "      <td>30</td>\n",
       "      <td>management</td>\n",
       "      <td>married</td>\n",
       "      <td>tertiary</td>\n",
       "      <td>no</td>\n",
       "      <td>1476</td>\n",
       "      <td>1</td>\n",
       "      <td>1</td>\n",
       "      <td>unknown</td>\n",
       "      <td>3</td>\n",
       "      <td>jun</td>\n",
       "      <td>199</td>\n",
       "      <td>4</td>\n",
       "      <td>-1</td>\n",
       "      <td>0</td>\n",
       "      <td>unknown</td>\n",
       "      <td>no</td>\n",
       "      <td>True</td>\n",
       "      <td>False</td>\n",
       "    </tr>\n",
       "    <tr>\n",
       "      <th>4</th>\n",
       "      <td>59</td>\n",
       "      <td>blue-collar</td>\n",
       "      <td>married</td>\n",
       "      <td>secondary</td>\n",
       "      <td>no</td>\n",
       "      <td>0</td>\n",
       "      <td>1</td>\n",
       "      <td>0</td>\n",
       "      <td>unknown</td>\n",
       "      <td>5</td>\n",
       "      <td>may</td>\n",
       "      <td>226</td>\n",
       "      <td>1</td>\n",
       "      <td>-1</td>\n",
       "      <td>0</td>\n",
       "      <td>unknown</td>\n",
       "      <td>no</td>\n",
       "      <td>False</td>\n",
       "      <td>False</td>\n",
       "    </tr>\n",
       "    <tr>\n",
       "      <th>...</th>\n",
       "      <td>...</td>\n",
       "      <td>...</td>\n",
       "      <td>...</td>\n",
       "      <td>...</td>\n",
       "      <td>...</td>\n",
       "      <td>...</td>\n",
       "      <td>...</td>\n",
       "      <td>...</td>\n",
       "      <td>...</td>\n",
       "      <td>...</td>\n",
       "      <td>...</td>\n",
       "      <td>...</td>\n",
       "      <td>...</td>\n",
       "      <td>...</td>\n",
       "      <td>...</td>\n",
       "      <td>...</td>\n",
       "      <td>...</td>\n",
       "      <td>...</td>\n",
       "      <td>...</td>\n",
       "    </tr>\n",
       "    <tr>\n",
       "      <th>49727</th>\n",
       "      <td>51</td>\n",
       "      <td>technician</td>\n",
       "      <td>married</td>\n",
       "      <td>tertiary</td>\n",
       "      <td>no</td>\n",
       "      <td>825</td>\n",
       "      <td>0</td>\n",
       "      <td>0</td>\n",
       "      <td>cellular</td>\n",
       "      <td>17</td>\n",
       "      <td>nov</td>\n",
       "      <td>977</td>\n",
       "      <td>3</td>\n",
       "      <td>-1</td>\n",
       "      <td>0</td>\n",
       "      <td>unknown</td>\n",
       "      <td>yes</td>\n",
       "      <td>False</td>\n",
       "      <td>True</td>\n",
       "    </tr>\n",
       "    <tr>\n",
       "      <th>49728</th>\n",
       "      <td>71</td>\n",
       "      <td>retired</td>\n",
       "      <td>divorced</td>\n",
       "      <td>primary</td>\n",
       "      <td>no</td>\n",
       "      <td>1729</td>\n",
       "      <td>0</td>\n",
       "      <td>0</td>\n",
       "      <td>cellular</td>\n",
       "      <td>17</td>\n",
       "      <td>nov</td>\n",
       "      <td>456</td>\n",
       "      <td>2</td>\n",
       "      <td>-1</td>\n",
       "      <td>0</td>\n",
       "      <td>unknown</td>\n",
       "      <td>yes</td>\n",
       "      <td>False</td>\n",
       "      <td>True</td>\n",
       "    </tr>\n",
       "    <tr>\n",
       "      <th>49729</th>\n",
       "      <td>72</td>\n",
       "      <td>retired</td>\n",
       "      <td>married</td>\n",
       "      <td>secondary</td>\n",
       "      <td>no</td>\n",
       "      <td>5715</td>\n",
       "      <td>0</td>\n",
       "      <td>0</td>\n",
       "      <td>cellular</td>\n",
       "      <td>17</td>\n",
       "      <td>nov</td>\n",
       "      <td>1127</td>\n",
       "      <td>5</td>\n",
       "      <td>184</td>\n",
       "      <td>3</td>\n",
       "      <td>success</td>\n",
       "      <td>yes</td>\n",
       "      <td>False</td>\n",
       "      <td>True</td>\n",
       "    </tr>\n",
       "    <tr>\n",
       "      <th>49730</th>\n",
       "      <td>57</td>\n",
       "      <td>blue-collar</td>\n",
       "      <td>married</td>\n",
       "      <td>secondary</td>\n",
       "      <td>no</td>\n",
       "      <td>668</td>\n",
       "      <td>0</td>\n",
       "      <td>0</td>\n",
       "      <td>telephone</td>\n",
       "      <td>17</td>\n",
       "      <td>nov</td>\n",
       "      <td>508</td>\n",
       "      <td>4</td>\n",
       "      <td>-1</td>\n",
       "      <td>0</td>\n",
       "      <td>unknown</td>\n",
       "      <td>no</td>\n",
       "      <td>False</td>\n",
       "      <td>True</td>\n",
       "    </tr>\n",
       "    <tr>\n",
       "      <th>49731</th>\n",
       "      <td>37</td>\n",
       "      <td>entrepreneur</td>\n",
       "      <td>married</td>\n",
       "      <td>secondary</td>\n",
       "      <td>no</td>\n",
       "      <td>2971</td>\n",
       "      <td>0</td>\n",
       "      <td>0</td>\n",
       "      <td>cellular</td>\n",
       "      <td>17</td>\n",
       "      <td>nov</td>\n",
       "      <td>361</td>\n",
       "      <td>2</td>\n",
       "      <td>188</td>\n",
       "      <td>11</td>\n",
       "      <td>other</td>\n",
       "      <td>no</td>\n",
       "      <td>False</td>\n",
       "      <td>True</td>\n",
       "    </tr>\n",
       "  </tbody>\n",
       "</table>\n",
       "<p>49732 rows × 19 columns</p>\n",
       "</div>"
      ],
      "text/plain": [
       "       age           job   marital  education default  balance  housing  loan  \\\n",
       "0       30    unemployed   married    primary      no     1787        0     0   \n",
       "1       33      services   married  secondary      no     4789        1     1   \n",
       "2       35    management    single   tertiary      no     1350        1     0   \n",
       "3       30    management   married   tertiary      no     1476        1     1   \n",
       "4       59   blue-collar   married  secondary      no        0        1     0   \n",
       "...    ...           ...       ...        ...     ...      ...      ...   ...   \n",
       "49727   51    technician   married   tertiary      no      825        0     0   \n",
       "49728   71       retired  divorced    primary      no     1729        0     0   \n",
       "49729   72       retired   married  secondary      no     5715        0     0   \n",
       "49730   57   blue-collar   married  secondary      no      668        0     0   \n",
       "49731   37  entrepreneur   married  secondary      no     2971        0     0   \n",
       "\n",
       "         contact  day month  duration  campaign  pdays  previous poutcome  \\\n",
       "0       cellular   19   oct        79         1     -1         0  unknown   \n",
       "1       cellular   11   may       220         1    339         4  failure   \n",
       "2       cellular   16   apr       185         1    330         1  failure   \n",
       "3        unknown    3   jun       199         4     -1         0  unknown   \n",
       "4        unknown    5   may       226         1     -1         0  unknown   \n",
       "...          ...  ...   ...       ...       ...    ...       ...      ...   \n",
       "49727   cellular   17   nov       977         3     -1         0  unknown   \n",
       "49728   cellular   17   nov       456         2     -1         0  unknown   \n",
       "49729   cellular   17   nov      1127         5    184         3  success   \n",
       "49730  telephone   17   nov       508         4     -1         0  unknown   \n",
       "49731   cellular   17   nov       361         2    188        11    other   \n",
       "\n",
       "         y  h_and_l  no_loan  \n",
       "0       no    False     True  \n",
       "1       no     True    False  \n",
       "2       no    False    False  \n",
       "3       no     True    False  \n",
       "4       no    False    False  \n",
       "...    ...      ...      ...  \n",
       "49727  yes    False     True  \n",
       "49728  yes    False     True  \n",
       "49729  yes    False     True  \n",
       "49730   no    False     True  \n",
       "49731   no    False     True  \n",
       "\n",
       "[49732 rows x 19 columns]"
      ]
     },
     "execution_count": 39,
     "metadata": {},
     "output_type": "execute_result"
    }
   ],
   "source": [
    "df"
   ]
  },
  {
   "cell_type": "code",
   "execution_count": 40,
   "metadata": {
    "colab": {
     "base_uri": "https://localhost:8080/"
    },
    "id": "ClOzvYWVgNDt",
    "outputId": "fb0e7ee7-8382-4afb-8ef7-0de7496ac638"
   },
   "outputs": [
    {
     "data": {
      "text/plain": [
       "False    44959\n",
       "True      4773\n",
       "Name: h_and_l, dtype: int64"
      ]
     },
     "execution_count": 40,
     "metadata": {},
     "output_type": "execute_result"
    }
   ],
   "source": [
    "df.h_and_l.value_counts()"
   ]
  },
  {
   "cell_type": "code",
   "execution_count": 41,
   "metadata": {
    "colab": {
     "base_uri": "https://localhost:8080/",
     "height": 449
    },
    "id": "oxMr8IZ8gS5L",
    "outputId": "a5af2fab-0e3c-4b0b-e5c3-f7b522f825f0"
   },
   "outputs": [
    {
     "data": {
      "text/plain": [
       "([<matplotlib.patches.Wedge at 0x2957a43ab90>,\n",
       "  <matplotlib.patches.Wedge at 0x2957a43aaa0>],\n",
       " [Text(-1.05037722774329, 0.32666141406404414, 'False'),\n",
       "  Text(1.0503772048051008, -0.32666148782160337, 'True')],\n",
       " [Text(-0.5729330333145217, 0.17817895312584223, '90.4%'),\n",
       "  Text(0.5729330208027822, -0.17817899335723816, '9.6%')])"
      ]
     },
     "execution_count": 41,
     "metadata": {},
     "output_type": "execute_result"
    },
    {
     "data": {
      "image/png": "[encoded data removed]",
      "text/plain": [
       "<Figure size 1000x400 with 1 Axes>"
      ]
     },
     "metadata": {},
     "output_type": "display_data"
    }
   ],
   "source": [
    "handl_status=df.h_and_l.value_counts().index\n",
    "handl_values=df.h_and_l.value_counts().values\n",
    "plt.figure(figsize=(10,4))\n",
    "plt.pie(handl_values,labels=handl_status,autopct='%1.1f%%')"
   ]
  },
  {
   "cell_type": "markdown",
   "metadata": {
    "id": "VHod8eq4hCdf"
   },
   "source": [
    "Observation : Only 9% of the population has both housing and personal loans"
   ]
  },
  {
   "cell_type": "code",
   "execution_count": 42,
   "metadata": {
    "colab": {
     "base_uri": "https://localhost:8080/"
    },
    "id": "b5o-KdbzgfZr",
    "outputId": "d21c9caa-2264-40d2-a61e-5039f59f8685"
   },
   "outputs": [
    {
     "data": {
      "text/plain": [
       "False    30851\n",
       "True     18881\n",
       "Name: no_loan, dtype: int64"
      ]
     },
     "execution_count": 42,
     "metadata": {},
     "output_type": "execute_result"
    }
   ],
   "source": [
    "df.no_loan.value_counts()"
   ]
  },
  {
   "cell_type": "code",
   "execution_count": 43,
   "metadata": {
    "colab": {
     "base_uri": "https://localhost:8080/",
     "height": 449
    },
    "id": "K1_8H8m1hzUo",
    "outputId": "5346a704-fe6f-4948-a317-958d80c973f5"
   },
   "outputs": [
    {
     "data": {
      "text/plain": [
       "([<matplotlib.patches.Wedge at 0x2957a2017b0>,\n",
       "  <matplotlib.patches.Wedge at 0x2957a2016c0>],\n",
       " [Text(-0.4060454614503268, 1.022314571565715, 'False'),\n",
       "  Text(0.4060454614503265, -1.0223145715657151, 'True')],\n",
       " [Text(-0.22147934260926913, 0.5576261299449353, '62.0%'),\n",
       "  Text(0.22147934260926896, -0.5576261299449354, '38.0%')])"
      ]
     },
     "execution_count": 43,
     "metadata": {},
     "output_type": "execute_result"
    },
    {
     "data": {
      "image/png": "[encoded data removed]",
      "text/plain": [
       "<Figure size 1000x400 with 1 Axes>"
      ]
     },
     "metadata": {},
     "output_type": "display_data"
    }
   ],
   "source": [
    "no_status=df.no_loan.value_counts().index\n",
    "no_values=df.no_loan.value_counts().values\n",
    "plt.figure(figsize=(10,4))\n",
    "plt.pie(no_values,labels=no_status,autopct='%1.1f%%')"
   ]
  },
  {
   "cell_type": "markdown",
   "metadata": {
    "id": "whJ-ozeYjEeG"
   },
   "source": [
    "Observation: 37% of the population do not have any kind of loans."
   ]
  },
  {
   "cell_type": "code",
   "execution_count": 44,
   "metadata": {
    "id": "Am7JU6oViBAo"
   },
   "outputs": [],
   "source": [
    "df.replace({'marital':{'single':0,'divorced':1,'married':2}},inplace=True)\n",
    "df.replace({'education':{'unknown':0,'primary':1,'secondary':2,'tertiary':3}},inplace=True)\n",
    "df.replace({'default':{'no':0,'yes':1}},inplace=True)\n",
    "df.replace({'contact':{'unknown':0,'telephone':1,'cellular':2}},inplace=True)\n"
   ]
  },
  {
   "cell_type": "code",
   "execution_count": 45,
   "metadata": {
    "id": "dSbtA98Pmsrt"
   },
   "outputs": [],
   "source": [
    "from sklearn.preprocessing import LabelEncoder\n",
    "le=LabelEncoder()\n",
    "df['job']=le.fit_transform(df['job'])\n",
    "df['age']=le.fit_transform(df['age'])\n",
    "df['month']=le.fit_transform(df['month'])"
   ]
  },
  {
   "cell_type": "code",
   "execution_count": 46,
   "metadata": {
    "id": "srMCq5FVm9R9"
   },
   "outputs": [],
   "source": [
    "X=df.drop(['pdays','previous','poutcome','no_loan','h_and_l','y'],axis=1)\n",
    "Y=df['y']"
   ]
  },
  {
   "cell_type": "code",
   "execution_count": 47,
   "metadata": {
    "colab": {
     "base_uri": "https://localhost:8080/",
     "height": 423
    },
    "id": "f8cZ0QINsL4i",
    "outputId": "28d527c1-096f-47aa-ec1f-6504489aeb6b"
   },
   "outputs": [
    {
     "data": {
      "text/html": [
       "<div>\n",
       "<style scoped>\n",
       "    .dataframe tbody tr th:only-of-type {\n",
       "        vertical-align: middle;\n",
       "    }\n",
       "\n",
       "    .dataframe tbody tr th {\n",
       "        vertical-align: top;\n",
       "    }\n",
       "\n",
       "    .dataframe thead th {\n",
       "        text-align: right;\n",
       "    }\n",
       "</style>\n",
       "<table border=\"1\" class=\"dataframe\">\n",
       "  <thead>\n",
       "    <tr style=\"text-align: right;\">\n",
       "      <th></th>\n",
       "      <th>age</th>\n",
       "      <th>job</th>\n",
       "      <th>marital</th>\n",
       "      <th>education</th>\n",
       "      <th>default</th>\n",
       "      <th>balance</th>\n",
       "      <th>housing</th>\n",
       "      <th>loan</th>\n",
       "      <th>contact</th>\n",
       "      <th>day</th>\n",
       "      <th>month</th>\n",
       "      <th>duration</th>\n",
       "      <th>campaign</th>\n",
       "    </tr>\n",
       "  </thead>\n",
       "  <tbody>\n",
       "    <tr>\n",
       "      <th>0</th>\n",
       "      <td>12</td>\n",
       "      <td>10</td>\n",
       "      <td>2</td>\n",
       "      <td>1</td>\n",
       "      <td>0</td>\n",
       "      <td>1787</td>\n",
       "      <td>0</td>\n",
       "      <td>0</td>\n",
       "      <td>2</td>\n",
       "      <td>19</td>\n",
       "      <td>10</td>\n",
       "      <td>79</td>\n",
       "      <td>1</td>\n",
       "    </tr>\n",
       "    <tr>\n",
       "      <th>1</th>\n",
       "      <td>15</td>\n",
       "      <td>7</td>\n",
       "      <td>2</td>\n",
       "      <td>2</td>\n",
       "      <td>0</td>\n",
       "      <td>4789</td>\n",
       "      <td>1</td>\n",
       "      <td>1</td>\n",
       "      <td>2</td>\n",
       "      <td>11</td>\n",
       "      <td>8</td>\n",
       "      <td>220</td>\n",
       "      <td>1</td>\n",
       "    </tr>\n",
       "    <tr>\n",
       "      <th>2</th>\n",
       "      <td>17</td>\n",
       "      <td>4</td>\n",
       "      <td>0</td>\n",
       "      <td>3</td>\n",
       "      <td>0</td>\n",
       "      <td>1350</td>\n",
       "      <td>1</td>\n",
       "      <td>0</td>\n",
       "      <td>2</td>\n",
       "      <td>16</td>\n",
       "      <td>0</td>\n",
       "      <td>185</td>\n",
       "      <td>1</td>\n",
       "    </tr>\n",
       "    <tr>\n",
       "      <th>3</th>\n",
       "      <td>12</td>\n",
       "      <td>4</td>\n",
       "      <td>2</td>\n",
       "      <td>3</td>\n",
       "      <td>0</td>\n",
       "      <td>1476</td>\n",
       "      <td>1</td>\n",
       "      <td>1</td>\n",
       "      <td>0</td>\n",
       "      <td>3</td>\n",
       "      <td>6</td>\n",
       "      <td>199</td>\n",
       "      <td>4</td>\n",
       "    </tr>\n",
       "    <tr>\n",
       "      <th>4</th>\n",
       "      <td>41</td>\n",
       "      <td>1</td>\n",
       "      <td>2</td>\n",
       "      <td>2</td>\n",
       "      <td>0</td>\n",
       "      <td>0</td>\n",
       "      <td>1</td>\n",
       "      <td>0</td>\n",
       "      <td>0</td>\n",
       "      <td>5</td>\n",
       "      <td>8</td>\n",
       "      <td>226</td>\n",
       "      <td>1</td>\n",
       "    </tr>\n",
       "    <tr>\n",
       "      <th>...</th>\n",
       "      <td>...</td>\n",
       "      <td>...</td>\n",
       "      <td>...</td>\n",
       "      <td>...</td>\n",
       "      <td>...</td>\n",
       "      <td>...</td>\n",
       "      <td>...</td>\n",
       "      <td>...</td>\n",
       "      <td>...</td>\n",
       "      <td>...</td>\n",
       "      <td>...</td>\n",
       "      <td>...</td>\n",
       "      <td>...</td>\n",
       "    </tr>\n",
       "    <tr>\n",
       "      <th>49727</th>\n",
       "      <td>33</td>\n",
       "      <td>9</td>\n",
       "      <td>2</td>\n",
       "      <td>3</td>\n",
       "      <td>0</td>\n",
       "      <td>825</td>\n",
       "      <td>0</td>\n",
       "      <td>0</td>\n",
       "      <td>2</td>\n",
       "      <td>17</td>\n",
       "      <td>9</td>\n",
       "      <td>977</td>\n",
       "      <td>3</td>\n",
       "    </tr>\n",
       "    <tr>\n",
       "      <th>49728</th>\n",
       "      <td>53</td>\n",
       "      <td>5</td>\n",
       "      <td>1</td>\n",
       "      <td>1</td>\n",
       "      <td>0</td>\n",
       "      <td>1729</td>\n",
       "      <td>0</td>\n",
       "      <td>0</td>\n",
       "      <td>2</td>\n",
       "      <td>17</td>\n",
       "      <td>9</td>\n",
       "      <td>456</td>\n",
       "      <td>2</td>\n",
       "    </tr>\n",
       "    <tr>\n",
       "      <th>49729</th>\n",
       "      <td>54</td>\n",
       "      <td>5</td>\n",
       "      <td>2</td>\n",
       "      <td>2</td>\n",
       "      <td>0</td>\n",
       "      <td>5715</td>\n",
       "      <td>0</td>\n",
       "      <td>0</td>\n",
       "      <td>2</td>\n",
       "      <td>17</td>\n",
       "      <td>9</td>\n",
       "      <td>1127</td>\n",
       "      <td>5</td>\n",
       "    </tr>\n",
       "    <tr>\n",
       "      <th>49730</th>\n",
       "      <td>39</td>\n",
       "      <td>1</td>\n",
       "      <td>2</td>\n",
       "      <td>2</td>\n",
       "      <td>0</td>\n",
       "      <td>668</td>\n",
       "      <td>0</td>\n",
       "      <td>0</td>\n",
       "      <td>1</td>\n",
       "      <td>17</td>\n",
       "      <td>9</td>\n",
       "      <td>508</td>\n",
       "      <td>4</td>\n",
       "    </tr>\n",
       "    <tr>\n",
       "      <th>49731</th>\n",
       "      <td>19</td>\n",
       "      <td>2</td>\n",
       "      <td>2</td>\n",
       "      <td>2</td>\n",
       "      <td>0</td>\n",
       "      <td>2971</td>\n",
       "      <td>0</td>\n",
       "      <td>0</td>\n",
       "      <td>2</td>\n",
       "      <td>17</td>\n",
       "      <td>9</td>\n",
       "      <td>361</td>\n",
       "      <td>2</td>\n",
       "    </tr>\n",
       "  </tbody>\n",
       "</table>\n",
       "<p>49732 rows × 13 columns</p>\n",
       "</div>"
      ],
      "text/plain": [
       "       age  job  marital  education  default  balance  housing  loan  contact  \\\n",
       "0       12   10        2          1        0     1787        0     0        2   \n",
       "1       15    7        2          2        0     4789        1     1        2   \n",
       "2       17    4        0          3        0     1350        1     0        2   \n",
       "3       12    4        2          3        0     1476        1     1        0   \n",
       "4       41    1        2          2        0        0        1     0        0   \n",
       "...    ...  ...      ...        ...      ...      ...      ...   ...      ...   \n",
       "49727   33    9        2          3        0      825        0     0        2   \n",
       "49728   53    5        1          1        0     1729        0     0        2   \n",
       "49729   54    5        2          2        0     5715        0     0        2   \n",
       "49730   39    1        2          2        0      668        0     0        1   \n",
       "49731   19    2        2          2        0     2971        0     0        2   \n",
       "\n",
       "       day  month  duration  campaign  \n",
       "0       19     10        79         1  \n",
       "1       11      8       220         1  \n",
       "2       16      0       185         1  \n",
       "3        3      6       199         4  \n",
       "4        5      8       226         1  \n",
       "...    ...    ...       ...       ...  \n",
       "49727   17      9       977         3  \n",
       "49728   17      9       456         2  \n",
       "49729   17      9      1127         5  \n",
       "49730   17      9       508         4  \n",
       "49731   17      9       361         2  \n",
       "\n",
       "[49732 rows x 13 columns]"
      ]
     },
     "execution_count": 47,
     "metadata": {},
     "output_type": "execute_result"
    }
   ],
   "source": [
    "X"
   ]
  },
  {
   "cell_type": "code",
   "execution_count": 48,
   "metadata": {
    "colab": {
     "base_uri": "https://localhost:8080/"
    },
    "id": "boFd14VopB86",
    "outputId": "4ea5bfd3-51c9-4e90-e586-13f3a012dbf1"
   },
   "outputs": [
    {
     "data": {
      "text/plain": [
       "no     43922\n",
       "yes     5810\n",
       "Name: y, dtype: int64"
      ]
     },
     "execution_count": 48,
     "metadata": {},
     "output_type": "execute_result"
    }
   ],
   "source": [
    "df.y.value_counts()"
   ]
  },
  {
   "cell_type": "markdown",
   "metadata": {
    "id": "xV-vG_6XrFCB"
   },
   "source": [
    "Splitting the data into training data & Test data"
   ]
  },
  {
   "cell_type": "code",
   "execution_count": 49,
   "metadata": {
    "colab": {
     "base_uri": "https://localhost:8080/"
    },
    "id": "_1ZACkfDq-N7",
    "outputId": "c163227b-5900-4670-e6b2-20ac9f1d5d4d"
   },
   "outputs": [
    {
     "name": "stdout",
     "output_type": "stream",
     "text": [
      "(49732, 13) (34812, 13) (14920, 13)\n"
     ]
    }
   ],
   "source": [
    "from sklearn.model_selection import train_test_split\n",
    "X_train, X_test, Y_train, Y_test=train_test_split(X,Y,test_size=0.3,random_state=101)\n",
    "print(X.shape,X_train.shape, X_test.shape)"
   ]
  },
  {
   "cell_type": "code",
   "execution_count": 50,
   "metadata": {
    "id": "pFaCKVdctEp8"
   },
   "outputs": [],
   "source": [
    "from sklearn.preprocessing import StandardScaler\n",
    "sc=StandardScaler()\n",
    "X_train[['age','balance','day','duration']]=sc.fit_transform(X_train[['age','balance','day','duration']])\n",
    "X_test[['age','balance','day','duration']]=sc.fit_transform(X_test[['age','balance','day','duration']])"
   ]
  },
  {
   "cell_type": "code",
   "execution_count": 51,
   "metadata": {
    "colab": {
     "base_uri": "https://localhost:8080/",
     "height": 74
    },
    "id": "pct-ZNZgr01n",
    "outputId": "b9a75ba8-2522-4807-bf16-56c7fa4c8351"
   },
   "outputs": [
    {
     "data": {
      "text/html": [
       "<style>#sk-container-id-1 {color: black;}#sk-container-id-1 pre{padding: 0;}#sk-container-id-1 div.sk-toggleable {background-color: white;}#sk-container-id-1 label.sk-toggleable__label {cursor: pointer;display: block;width: 100%;margin-bottom: 0;padding: 0.3em;box-sizing: border-box;text-align: center;}#sk-container-id-1 label.sk-toggleable__label-arrow:before {content: \"▸\";float: left;margin-right: 0.25em;color: #696969;}#sk-container-id-1 label.sk-toggleable__label-arrow:hover:before {color: black;}#sk-container-id-1 div.sk-estimator:hover label.sk-toggleable__label-arrow:before {color: black;}#sk-container-id-1 div.sk-toggleable__content {max-height: 0;max-width: 0;overflow: hidden;text-align: left;background-color: #f0f8ff;}#sk-container-id-1 div.sk-toggleable__content pre {margin: 0.2em;color: black;border-radius: 0.25em;background-color: #f0f8ff;}#sk-container-id-1 input.sk-toggleable__control:checked~div.sk-toggleable__content {max-height: 200px;max-width: 100%;overflow: auto;}#sk-container-id-1 input.sk-toggleable__control:checked~label.sk-toggleable__label-arrow:before {content: \"▾\";}#sk-container-id-1 div.sk-estimator input.sk-toggleable__control:checked~label.sk-toggleable__label {background-color: #d4ebff;}#sk-container-id-1 div.sk-label input.sk-toggleable__control:checked~label.sk-toggleable__label {background-color: #d4ebff;}#sk-container-id-1 input.sk-hidden--visually {border: 0;clip: rect(1px 1px 1px 1px);clip: rect(1px, 1px, 1px, 1px);height: 1px;margin: -1px;overflow: hidden;padding: 0;position: absolute;width: 1px;}#sk-container-id-1 div.sk-estimator {font-family: monospace;background-color: #f0f8ff;border: 1px dotted black;border-radius: 0.25em;box-sizing: border-box;margin-bottom: 0.5em;}#sk-container-id-1 div.sk-estimator:hover {background-color: #d4ebff;}#sk-container-id-1 div.sk-parallel-item::after {content: \"\";width: 100%;border-bottom: 1px solid gray;flex-grow: 1;}#sk-container-id-1 div.sk-label:hover label.sk-toggleable__label {background-color: #d4ebff;}#sk-container-id-1 div.sk-serial::before {content: \"\";position: absolute;border-left: 1px solid gray;box-sizing: border-box;top: 0;bottom: 0;left: 50%;z-index: 0;}#sk-container-id-1 div.sk-serial {display: flex;flex-direction: column;align-items: center;background-color: white;padding-right: 0.2em;padding-left: 0.2em;position: relative;}#sk-container-id-1 div.sk-item {position: relative;z-index: 1;}#sk-container-id-1 div.sk-parallel {display: flex;align-items: stretch;justify-content: center;background-color: white;position: relative;}#sk-container-id-1 div.sk-item::before, #sk-container-id-1 div.sk-parallel-item::before {content: \"\";position: absolute;border-left: 1px solid gray;box-sizing: border-box;top: 0;bottom: 0;left: 50%;z-index: -1;}#sk-container-id-1 div.sk-parallel-item {display: flex;flex-direction: column;z-index: 1;position: relative;background-color: white;}#sk-container-id-1 div.sk-parallel-item:first-child::after {align-self: flex-end;width: 50%;}#sk-container-id-1 div.sk-parallel-item:last-child::after {align-self: flex-start;width: 50%;}#sk-container-id-1 div.sk-parallel-item:only-child::after {width: 0;}#sk-container-id-1 div.sk-dashed-wrapped {border: 1px dashed gray;margin: 0 0.4em 0.5em 0.4em;box-sizing: border-box;padding-bottom: 0.4em;background-color: white;}#sk-container-id-1 div.sk-label label {font-family: monospace;font-weight: bold;display: inline-block;line-height: 1.2em;}#sk-container-id-1 div.sk-label-container {text-align: center;}#sk-container-id-1 div.sk-container {/* jupyter's `normalize.less` sets `[hidden] { display: none; }` but bootstrap.min.css set `[hidden] { display: none !important; }` so we also need the `!important` here to be able to override the default hidden behavior on the sphinx rendered scikit-learn.org. See: https://github.com/scikit-learn/scikit-learn/issues/21755 */display: inline-block !important;position: relative;}#sk-container-id-1 div.sk-text-repr-fallback {display: none;}</style><div id=\"sk-container-id-1\" class=\"sk-top-container\"><div class=\"sk-text-repr-fallback\"><pre>DecisionTreeClassifier(max_depth=3, random_state=2529)</pre><b>In a Jupyter environment, please rerun this cell to show the HTML representation or trust the notebook. <br />On GitHub, the HTML representation is unable to render, please try loading this page with nbviewer.org.</b></div><div class=\"sk-container\" hidden><div class=\"sk-item\"><div class=\"sk-estimator sk-toggleable\"><input class=\"sk-toggleable__control sk-hidden--visually\" id=\"sk-estimator-id-1\" type=\"checkbox\" checked><label for=\"sk-estimator-id-1\" class=\"sk-toggleable__label sk-toggleable__label-arrow\">DecisionTreeClassifier</label><div class=\"sk-toggleable__content\"><pre>DecisionTreeClassifier(max_depth=3, random_state=2529)</pre></div></div></div></div></div>"
      ],
      "text/plain": [
       "DecisionTreeClassifier(max_depth=3, random_state=2529)"
      ]
     },
     "execution_count": 51,
     "metadata": {},
     "output_type": "execute_result"
    }
   ],
   "source": [
    "from sklearn.tree import DecisionTreeClassifier\n",
    "dt=DecisionTreeClassifier(max_depth=3,random_state=2529)\n",
    "dt.fit(X_train,Y_train)"
   ]
  },
  {
   "cell_type": "code",
   "execution_count": 52,
   "metadata": {
    "colab": {
     "base_uri": "https://localhost:8080/"
    },
    "id": "EBmDTXSAvOhI",
    "outputId": "f52c4162-2662-48e8-9a4b-9b262e02abf6"
   },
   "outputs": [
    {
     "data": {
      "text/plain": [
       "array(['no', 'no', 'no', ..., 'no', 'no', 'no'], dtype=object)"
      ]
     },
     "execution_count": 52,
     "metadata": {},
     "output_type": "execute_result"
    }
   ],
   "source": [
    "Y_pred=dt.predict(X_test)\n",
    "Y_pred"
   ]
  },
  {
   "cell_type": "code",
   "execution_count": 53,
   "metadata": {
    "id": "ymqzPBt_vuGx"
   },
   "outputs": [],
   "source": [
    "from sklearn.metrics import confusion_matrix,accuracy_score,classification_report\n"
   ]
  },
  {
   "cell_type": "code",
   "execution_count": 54,
   "metadata": {
    "colab": {
     "base_uri": "https://localhost:8080/"
    },
    "id": "-FRYlTGWv3Vr",
    "outputId": "fcc427c2-ea83-4033-b252-1fba8ae1aa36"
   },
   "outputs": [
    {
     "data": {
      "text/plain": [
       "array([[12820,   300],\n",
       "       [ 1349,   451]], dtype=int64)"
      ]
     },
     "execution_count": 54,
     "metadata": {},
     "output_type": "execute_result"
    }
   ],
   "source": [
    "confusion_matrix(Y_test,Y_pred)"
   ]
  },
  {
   "cell_type": "code",
   "execution_count": 55,
   "metadata": {
    "colab": {
     "base_uri": "https://localhost:8080/"
    },
    "id": "I0Tqsew3v78c",
    "outputId": "db5a90a8-7dcd-42e1-b34a-d52f4f37db23"
   },
   "outputs": [
    {
     "data": {
      "text/plain": [
       "0.8894772117962466"
      ]
     },
     "execution_count": 55,
     "metadata": {},
     "output_type": "execute_result"
    }
   ],
   "source": [
    "accuracy_score(Y_test,Y_pred)"
   ]
  },
  {
   "cell_type": "code",
   "execution_count": 56,
   "metadata": {
    "colab": {
     "base_uri": "https://localhost:8080/"
    },
    "id": "MWRCt5UbwF5g",
    "outputId": "b85a9d4e-c39c-4f58-c0fd-7dcbba363404"
   },
   "outputs": [
    {
     "name": "stdout",
     "output_type": "stream",
     "text": [
      "              precision    recall  f1-score   support\n",
      "\n",
      "          no       0.90      0.98      0.94     13120\n",
      "         yes       0.60      0.25      0.35      1800\n",
      "\n",
      "    accuracy                           0.89     14920\n",
      "   macro avg       0.75      0.61      0.65     14920\n",
      "weighted avg       0.87      0.89      0.87     14920\n",
      "\n"
     ]
    }
   ],
   "source": [
    "print(classification_report(Y_test,Y_pred))"
   ]
  },
  {
   "cell_type": "code",
   "execution_count": 57,
   "metadata": {},
   "outputs": [
    {
     "name": "stdout",
     "output_type": "stream",
     "text": [
      "              precision    recall  f1-score       support\n",
      "Class 0        0.904792  0.977134  0.939573  13120.000000\n",
      "Class 1        0.600533  0.250556  0.353587   1800.000000\n",
      "accuracy       0.889477  0.889477  0.889477      0.889477\n",
      "macro avg      0.752662  0.613845  0.646580  14920.000000\n",
      "weighted avg   0.868085  0.889477  0.868877  14920.000000\n"
     ]
    }
   ],
   "source": [
    "report = classification_report(Y_test, Y_pred, target_names=['Class 0', 'Class 1'], output_dict=True)\n",
    "\n",
    "df = pd.DataFrame(report).transpose()\n",
    "\n",
    "print(df)"
   ]
  }
 ],
 "metadata": {
  "colab": {
   "provenance": []
  },
  "kernelspec": {
   "display_name": "Python 3 (ipykernel)",
   "language": "python",
   "name": "python3"
  },
  "language_info": {
   "codemirror_mode": {
    "name": "ipython",
    "version": 3
   },
   "file_extension": ".py",
   "mimetype": "text/x-python",
   "name": "python",
   "nbconvert_exporter": "python",
   "pygments_lexer": "ipython3",
   "version": "3.10.9"
  }
 },
 "nbformat": 4,
 "nbformat_minor": 1
}
